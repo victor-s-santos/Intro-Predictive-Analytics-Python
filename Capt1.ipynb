{
 "cells": [
  {
   "cell_type": "markdown",
   "metadata": {},
   "source": [
    "# Ex.3"
   ]
  },
  {
   "cell_type": "markdown",
   "metadata": {},
   "source": [
    "## Exploring the base table\n",
    "`Before diving into model building, it is important to understand the data you are working with. In this exercise, you will learn how to obtain the population size, number of targets and target incidence from a given basetable.`"
   ]
  },
  {
   "cell_type": "markdown",
   "metadata": {},
   "source": [
    "## Instructions\n",
    "- The basetable is loaded in a pandas object basetable. Assign the number of rows to the variable population_size and print it.\n",
    "- Assign the number of targets equal to one to the variable targets_count and print it.\n",
    "- Print the target incidence, this is the ratio of targets_count and population_size."
   ]
  },
  {
   "cell_type": "code",
   "execution_count": null,
   "metadata": {},
   "outputs": [],
   "source": [
    "# Assign the number of rows in the basetable to the variable 'population_size'.\n",
    "population_size  = len(basetable)\n",
    "\n",
    "# Print the population size.\n",
    "print(population_size)\n",
    "\n",
    "# Assign the number of targets to the variable 'targets_count'.\n",
    "targets_count = sum(basetable['target'])\n",
    "\n",
    "# Print the number of targets.\n",
    "print(targets_count)\n",
    "\n",
    "# Print the target incidence.\n",
    "print(targets_count / len(basetable))"
   ]
  },
  {
   "cell_type": "markdown",
   "metadata": {},
   "source": [
    "# Ex.4"
   ]
  },
  {
   "cell_type": "markdown",
   "metadata": {},
   "source": [
    "## Exploring the predictive variables\n",
    "It is always useful to get a better understanding of the population. Therefore, one can have a closer look at the predictive variables. Recall that you can select a column in a pandas dataframe by indexing as follows:\n",
    "\n",
    "`basetable[\"variable\"]`\n",
    "- To count the number of occurrences of a certain value in a column, you can use the sum method:\n",
    "\n",
    "`sum(basetable[\"variable\"]==value)`\n",
    "- In this exercise you will find out whether there are more males than females in the population."
   ]
  },
  {
   "cell_type": "code",
   "execution_count": null,
   "metadata": {},
   "outputs": [],
   "source": [
    "# Count and print the number of females.\n",
    "print(sum(basetable['gender'] == 'F'))\n",
    "\n",
    "# Count and print the number of males.\n",
    "print(sum(basetable['gender'] == 'M'))"
   ]
  },
  {
   "cell_type": "markdown",
   "metadata": {},
   "source": [
    "# Ex. 7"
   ]
  },
  {
   "cell_type": "markdown",
   "metadata": {},
   "source": [
    "## Building a logistic regression model\n",
    "`You can build a logistic regression model using the module linear_model from sklearn. First, you create a logistic regression model using the LogisticRegression() method:`\n",
    "\n",
    "- logreg = linear_model.LogisticRegression()\n",
    "- Next, you need to feed data to the logistic regression model, so that it can be fit. X contains the predictive variables, whereas y has the target.\n",
    "\n",
    "`X = basetable[[\"predictor_1\",\"predictor_2\",\"predictor_3\"]]`\n",
    "`y = basetable[[\"target\"]]`\n",
    "`logreg.fit(X,y)`\n",
    "- In this exercise you will build your first predictive model using three predictors."
   ]
  },
  {
   "cell_type": "markdown",
   "metadata": {},
   "source": [
    "## Instructions\n",
    "- Import the methodlinear_model from sklearn.\n",
    "- The basetable is loaded as basetable. Note that the column \"gender\" has been transformed to gender_F so that it can be used as a predictor. Construct a dataframe X that contains the predictors age, gender_F and time_since_last_gift.\n",
    "- Construct a dataframe y that contains the target.\n",
    "- Create a logistic regression model.\n",
    "- Fit the logistic regression model on the given basetable."
   ]
  },
  {
   "cell_type": "code",
   "execution_count": null,
   "metadata": {},
   "outputs": [],
   "source": [
    "# Import linear_model from sklearn.\n",
    "from sklearn import linear_model\n",
    "\n",
    "# Create a dataframe X that only contains the candidate predictors age, gender_F and time_since_last_gift.\n",
    "X = basetable[['age', 'gender_F', 'time_since_last_gift']]\n",
    "\n",
    "# Create a dataframe y that contains the target.\n",
    "y = basetable[['target']]\n",
    "\n",
    "# Create a logistic regression model logreg and fit it to the data.\n",
    "logreg = linear_model.LogisticRegression()\n",
    "logreg.fit(X, y)"
   ]
  },
  {
   "cell_type": "markdown",
   "metadata": {},
   "source": [
    "# Ex. 8"
   ]
  },
  {
   "cell_type": "markdown",
   "metadata": {},
   "source": [
    "## Showing the coefficients and intercept\n",
    "`Once the logistic regression model is ready, it can be interesting to have a look at the coefficients to check whether the model makes sense.`\n",
    "\n",
    "`Given a fitted logistic regression model logreg, you can retrieve the coefficients using the attribute coef_. The order in which the coefficients appear, is the same as the order in which the variables were fed to the model. The intercept can be retrieved using the attribute intercept_.`\n",
    "\n",
    "`The logistic regression model that you built in the previous exercises has been added and fitted for you in logreg.`"
   ]
  },
  {
   "cell_type": "markdown",
   "metadata": {},
   "source": [
    "## Instructions\n",
    "\n",
    "- Assign the coefficients of the logistic regression model to the list coef.\n",
    "- Assign the intercept of the logistic regression model to the variable intercept."
   ]
  },
  {
   "cell_type": "code",
   "execution_count": null,
   "metadata": {},
   "outputs": [],
   "source": [
    "# Construct a logistic regression model that predicts the target using age, gender_F and time_since_last gift\n",
    "predictors = [\"age\",\"gender_F\",\"time_since_last_gift\"]\n",
    "X = basetable[predictors]\n",
    "y = basetable[[\"target\"]]\n",
    "logreg = linear_model.LogisticRegression()\n",
    "logreg.fit(X, y)\n",
    "\n",
    "# Assign the coefficients to a list coef\n",
    "coef = logreg.coef_\n",
    "for p,c in zip(predictors,list(coef[0])):\n",
    "    print(p + '\\t' + str(c))\n",
    "    \n",
    "# Assign the intercept to the variable intercept\n",
    "intercept = logreg.intercept_\n",
    "print(intercept)"
   ]
  },
  {
   "cell_type": "markdown",
   "metadata": {},
   "source": [
    "# Ex.10"
   ]
  },
  {
   "cell_type": "markdown",
   "metadata": {},
   "source": [
    "## Making predictions\n",
    ">Once your model is ready, you can use it to make predictions for a campaign. It is important to always use the latest information to make predictions.\n",
    "\n",
    ">In this exercise you will, given a fitted logistic regression model, learn how to make predictions for a new, updated basetable.\n",
    "\n",
    ">The logistic regression model that you built in the previous exercises has been added and fitted for you in logreg."
   ]
  },
  {
   "cell_type": "markdown",
   "metadata": {},
   "source": [
    "## Instructions\n",
    ">The latest data is in current_data. Create a data frame new_data that selects the relevant columns from current_data.\n",
    ">Assign to predictions the predictions for the observations in new_data."
   ]
  },
  {
   "cell_type": "code",
   "execution_count": null,
   "metadata": {},
   "outputs": [],
   "source": [
    "# Fit a logistic regression model\n",
    "from sklearn import linear_model\n",
    "X = basetable[[\"age\",\"gender_F\",\"time_since_last_gift\"]]\n",
    "y = basetable[[\"target\"]]\n",
    "logreg = linear_model.LogisticRegression()\n",
    "logreg.fit(X, y)\n",
    "\n",
    "# Create a dataframe new_data from current_data that has only the relevant predictors \n",
    "new_data = current_data[[\"age\", \"gender_F\", \"time_since_last_gift\"]]\n",
    "\n",
    "# Make a prediction for each observation in new_data and assign it to predictions\n",
    "predictions = logreg.predict_proba(new_data)\n",
    "print(predictions[0:5])"
   ]
  },
  {
   "cell_type": "markdown",
   "metadata": {},
   "source": [
    "# Ex.11"
   ]
  },
  {
   "cell_type": "markdown",
   "metadata": {},
   "source": [
    "## Donor that is most likely to donate\n",
    "`The predictions that result from the predictive model reflect how likely it is that someone is a target. For instance, assume that you constructed a model to predict whether a donor will donate more than 50 Euro for a certain campaign. If the prediction for a certain donor is 0.82, it means that there is an 82% chance that he will donate more than 50 Euro.`\n",
    "\n",
    "`In this exercise you will find the donor that is most likely to donate more than 50 Euro.`\n",
    "\n",
    "`Recall that you can sort a pandas dataframe df according to a certain column c using`\n",
    "\n",
    "> df_sorted = df.sort([\"c\"])\n",
    "\n",
    "`and that you can select the first and last row of a pandas dataframe using`\n",
    "\n",
    "`first_row = df.head(1)\n",
    "last_row = df.tail(1)`"
   ]
  },
  {
   "cell_type": "markdown",
   "metadata": {},
   "source": [
    "## Instructions\n",
    "- The predictions are in a pandas dataframe predictions that has two columns: the donor ID and the probability to be target. Sort these predictions such that the donors with lowest probability to donate are first.\n",
    "\n",
    "- Select and print the row in this sorted dataframe that has the donor that is most likely to donate more than 50 Euro according to the model."
   ]
  },
  {
   "cell_type": "code",
   "execution_count": null,
   "metadata": {},
   "outputs": [],
   "source": [
    "# Sort the predictions\n",
    "predictions_sorted = ____.____([____])\n",
    "\n",
    "# Print the row of predictions_sorted that has the donor that is most likely to donate\n",
    "print(____.____(____))"
   ]
  }
 ],
 "metadata": {
  "kernelspec": {
   "display_name": "Python 3",
   "language": "python",
   "name": "python3"
  },
  "language_info": {
   "codemirror_mode": {
    "name": "ipython",
    "version": 3
   },
   "file_extension": ".py",
   "mimetype": "text/x-python",
   "name": "python",
   "nbconvert_exporter": "python",
   "pygments_lexer": "ipython3",
   "version": "3.8.3"
  }
 },
 "nbformat": 4,
 "nbformat_minor": 4
}
