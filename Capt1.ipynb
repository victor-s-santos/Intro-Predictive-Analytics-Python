{
 "cells": [
  {
   "cell_type": "markdown",
   "metadata": {},
   "source": [
    "# Ex.3"
   ]
  },
  {
   "cell_type": "markdown",
   "metadata": {},
   "source": [
    "## Exploring the base table\n",
    "`Before diving into model building, it is important to understand the data you are working with. In this exercise, you will learn how to obtain the population size, number of targets and target incidence from a given basetable.`"
   ]
  },
  {
   "cell_type": "markdown",
   "metadata": {},
   "source": [
    "## Instructions\n",
    "- The basetable is loaded in a pandas object basetable. Assign the number of rows to the variable population_size and print it.\n",
    "- Assign the number of targets equal to one to the variable targets_count and print it.\n",
    "- Print the target incidence, this is the ratio of targets_count and population_size."
   ]
  },
  {
   "cell_type": "code",
   "execution_count": null,
   "metadata": {},
   "outputs": [],
   "source": [
    "# Assign the number of rows in the basetable to the variable 'population_size'.\n",
    "population_size  = len(basetable)\n",
    "\n",
    "# Print the population size.\n",
    "print(population_size)\n",
    "\n",
    "# Assign the number of targets to the variable 'targets_count'.\n",
    "targets_count = sum(basetable['target'])\n",
    "\n",
    "# Print the number of targets.\n",
    "print(targets_count)\n",
    "\n",
    "# Print the target incidence.\n",
    "print(targets_count / len(basetable))"
   ]
  },
  {
   "cell_type": "markdown",
   "metadata": {},
   "source": [
    "# Ex.4"
   ]
  },
  {
   "cell_type": "markdown",
   "metadata": {},
   "source": [
    "## Exploring the predictive variables\n",
    "It is always useful to get a better understanding of the population. Therefore, one can have a closer look at the predictive variables. Recall that you can select a column in a pandas dataframe by indexing as follows:\n",
    "\n",
    "`basetable[\"variable\"]`\n",
    "- To count the number of occurrences of a certain value in a column, you can use the sum method:\n",
    "\n",
    "`sum(basetable[\"variable\"]==value)`\n",
    "- In this exercise you will find out whether there are more males than females in the population."
   ]
  },
  {
   "cell_type": "code",
   "execution_count": null,
   "metadata": {},
   "outputs": [],
   "source": [
    "# Count and print the number of females.\n",
    "print(sum(basetable['gender'] == 'F'))\n",
    "\n",
    "# Count and print the number of males.\n",
    "print(sum(basetable['gender'] == 'M'))"
   ]
  },
  {
   "cell_type": "code",
   "execution_count": null,
   "metadata": {},
   "outputs": [],
   "source": []
  }
 ],
 "metadata": {
  "kernelspec": {
   "display_name": "Python 3",
   "language": "python",
   "name": "python3"
  },
  "language_info": {
   "codemirror_mode": {
    "name": "ipython",
    "version": 3
   },
   "file_extension": ".py",
   "mimetype": "text/x-python",
   "name": "python",
   "nbconvert_exporter": "python",
   "pygments_lexer": "ipython3",
   "version": "3.8.3"
  }
 },
 "nbformat": 4,
 "nbformat_minor": 4
}
